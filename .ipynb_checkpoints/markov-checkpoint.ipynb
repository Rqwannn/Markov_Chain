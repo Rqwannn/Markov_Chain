{
 "cells": [
  {
   "cell_type": "code",
   "execution_count": 1,
   "metadata": {
    "tags": []
   },
   "outputs": [],
   "source": [
    "import numpy as np\n",
    "import matplotlib.pyplot as plt\n",
    "import string\n",
    "from sklearn.model_selection import train_test_split"
   ]
  },
  {
   "cell_type": "code",
   "execution_count": 6,
   "metadata": {},
   "outputs": [],
   "source": [
    "input_files = [\n",
    "  'Assets/edgar_allan_poe.txt',\n",
    "  'Assets/robert_frost.txt',\n",
    "]"
   ]
  },
  {
   "cell_type": "markdown",
   "metadata": {},
   "source": [
    "rstrip() adalah sebuah fungsi dalam bahasa pemrograman Python yang digunakan untuk menghapus karakter whitespace atau karakter yang ditentukan dari ujung string atau bagian akhir string.\n",
    "\n",
    "fungsi line.translate(str.maketrans('', '', string.punctuation)) digunakan untuk menghapus semua tanda baca (punctuation) dari sebuah string line. Fungsi str.maketrans() digunakan untuk membuat mapping table yang akan digunakan untuk menghapus tanda baca. Sedangkan translate() digunakan untuk melakukan translasi karakter pada string dengan menggunakan mapping table yang telah dibuat sebelumnya. Dalam hal ini, karakter yang di-translasi adalah tanda baca pada string line."
   ]
  },
  {
   "cell_type": "code",
   "execution_count": 8,
   "metadata": {},
   "outputs": [
    {
     "name": "stdout",
     "output_type": "stream",
     "text": [
      "Assets/edgar_allan_poe.txt corresponds to label 0\n",
      "Assets/robert_frost.txt corresponds to label 1\n"
     ]
    }
   ],
   "source": [
    "# collect data into lists\n",
    "input_texts = []\n",
    "labels = []\n",
    "\n",
    "for label, f in enumerate(input_files):\n",
    "  print(f\"{f} corresponds to label {label}\")\n",
    "\n",
    "  for line in open(f):\n",
    "    line = line.rstrip().lower()\n",
    "    \n",
    "    if line:\n",
    "      # remove punctuation\n",
    "      line = line.translate(str.maketrans('', '', string.punctuation))\n",
    "\n",
    "      input_texts.append(line)\n",
    "      labels.append(label)"
   ]
  },
  {
   "cell_type": "code",
   "execution_count": null,
   "metadata": {},
   "outputs": [],
   "source": [
    "input_texts"
   ]
  },
  {
   "cell_type": "markdown",
   "metadata": {},
   "source": [
    "['lo death hath reard himself a throne',\n",
    " 'in a strange city all alone',\n",
    " 'far down within the dim west',\n",
    " 'where the good and the bad and the worst and the best',\n",
    " 'have gone to their eternal rest',\n",
    " ]"
   ]
  },
  {
   "cell_type": "code",
   "execution_count": 10,
   "metadata": {},
   "outputs": [],
   "source": [
    "x_train, x_text, y_train, y_test = train_test_split(input_texts, labels)"
   ]
  },
  {
   "cell_type": "code",
   "execution_count": null,
   "metadata": {},
   "outputs": [],
   "source": [
    "len(y_train), len(y_test)"
   ]
  }
 ],
 "metadata": {
  "kernelspec": {
   "display_name": "Python 3 (ipykernel)",
   "language": "python",
   "name": "python3"
  },
  "language_info": {
   "codemirror_mode": {
    "name": "ipython",
    "version": 3
   },
   "file_extension": ".py",
   "mimetype": "text/x-python",
   "name": "python",
   "nbconvert_exporter": "python",
   "pygments_lexer": "ipython3",
   "version": "3.9.13"
  }
 },
 "nbformat": 4,
 "nbformat_minor": 4
}
