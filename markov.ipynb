{
 "cells": [
  {
   "cell_type": "code",
   "execution_count": 185,
   "metadata": {
    "tags": []
   },
   "outputs": [],
   "source": [
    "import numpy as np\n",
    "import matplotlib.pyplot as plt\n",
    "import string\n",
    "from sklearn.model_selection import train_test_split\n",
    "from sklearn.metrics import confusion_matrix, f1_score"
   ]
  },
  {
   "cell_type": "code",
   "execution_count": 186,
   "metadata": {},
   "outputs": [],
   "source": [
    "input_files = [\n",
    "  'Assets/edgar_allan_poe.txt',\n",
    "  'Assets/robert_frost.txt',\n",
    "]"
   ]
  },
  {
   "cell_type": "markdown",
   "metadata": {},
   "source": [
    "rstrip() adalah sebuah fungsi dalam bahasa pemrograman Python yang digunakan untuk menghapus karakter whitespace atau karakter yang ditentukan dari ujung string atau bagian akhir string.\n",
    "\n",
    "fungsi line.translate(str.maketrans('', '', string.punctuation)) digunakan untuk menghapus semua tanda baca (punctuation) dari sebuah string line. Fungsi str.maketrans() digunakan untuk membuat mapping table yang akan digunakan untuk menghapus tanda baca. Sedangkan translate() digunakan untuk melakukan translasi karakter pada string dengan menggunakan mapping table yang telah dibuat sebelumnya. Dalam hal ini, karakter yang di-translasi adalah tanda baca pada string line."
   ]
  },
  {
   "cell_type": "code",
   "execution_count": 187,
   "metadata": {},
   "outputs": [
    {
     "name": "stdout",
     "output_type": "stream",
     "text": [
      "Assets/edgar_allan_poe.txt corresponds to label 0\n",
      "Assets/robert_frost.txt corresponds to label 1\n"
     ]
    }
   ],
   "source": [
    "# collect data into lists\n",
    "input_texts = []\n",
    "labels = []\n",
    "\n",
    "for label, f in enumerate(input_files):\n",
    "  print(f\"{f} corresponds to label {label}\")\n",
    "\n",
    "  for line in open(f):\n",
    "    line = line.rstrip().lower()\n",
    "    \n",
    "    if line:\n",
    "      # remove punctuation\n",
    "      line = line.translate(str.maketrans('', '', string.punctuation))\n",
    "\n",
    "      input_texts.append(line)\n",
    "      labels.append(label)"
   ]
  },
  {
   "cell_type": "code",
   "execution_count": 188,
   "metadata": {},
   "outputs": [
    {
     "data": {
      "text/plain": "['lo death hath reard himself a throne',\n 'in a strange city all alone',\n 'far down within the dim west',\n 'where the good and the bad and the worst and the best',\n 'have gone to their eternal rest',\n 'â€‰',\n 'there shrines and palaces and towers',\n 'are not like any thing of ours',\n 'oh no o no ours never loom',\n 'to heaven with that ungodly gloom',\n 'timeeaten towers that tremble not',\n 'resemble nothing that is ours',\n 'around by lifting winds forgot',\n 'resignedly beneath the sky',\n 'the melancholy waters lie',\n 'â€‰',\n 'no holy rays from heaven come down',\n 'on the long nighttime of that town',\n 'but light from out the lurid sea',\n 'streams up the turrets silently',\n 'up thrones up longforgotten bowers',\n 'of sculturd ivy and stone flowers',\n 'up domes up spires up kingly halls',\n 'up fanes up babylonlike walls',\n 'up many a melancholy shrine',\n 'whose entablatures intertwine',\n 'the mask the viol and the vine',\n 'â€‰',\n 'there open temples open graves',\n 'are on a level with the waves',\n 'but not the riches there that lie',\n 'in each idols diamond eye',\n 'not the gailyjewelld dead',\n 'tempt the waters from their bed',\n 'for no ripples curl alas',\n 'along that wilderness of glass',\n 'no swellings hint that winds may be',\n 'upon a faroff happier sea',\n 'so blend the turrets and shadows there',\n 'that all seem pendulous in air',\n 'while from the high towers of the town',\n 'death looks gigantically down',\n 'â€‰',\n 'but lo a stir is in the air',\n 'the wave there is a ripple there',\n 'as if the towers had thrown aside',\n 'in slightly sinking the dull tide',\n 'as if the turrettops had given',\n 'a vacuum in the filmy heaven',\n 'the waves have now a redder glow',\n 'the very hours are breathing low',\n 'and when amid no earthly moans',\n 'down down that town shall settle hence',\n 'all hades from a thousand thrones',\n 'shall do it reverence',\n 'and death to some more happy clime',\n 'shall give his undivided time',\n 'the skies they were ashen and sober',\n 'the leaves they were crisped and sere ',\n 'the leaves they were withering and sere',\n 'it was night in the lonesome october',\n 'of my most immemorial year',\n 'it was hard by the dim lake of auber',\n 'in the misty mid region of weir ',\n 'it was down by the dank tarn of auber',\n 'in the ghoulhaunted woodland of weir',\n 'here once through an alley titanic',\n 'of cypress i roamed with my soul ',\n 'of cypress with psyche my soul',\n 'these were days when my heart was volcanic',\n 'as the scoriac rivers that roll ',\n 'as the lavas that restlessly roll',\n 'their sulphurous currents down yaanek',\n 'in the ultimate climes of the pole ',\n 'that groan as they roll down mount yaanek',\n 'in the realms of the boreal pole',\n 'our talk had been serious and sober',\n 'but our thoughts they were palsied and sere ',\n 'our memories were treacherous and sere ',\n 'for we knew not the month was october',\n 'and we marked not the night of the year ',\n 'ah night of all nights in the year',\n 'we noted not the dim lake of auber ',\n 'though once we had journey down here',\n 'remembered not the dank tarn of auber',\n 'nor the ghoulhaunted woodland of weir',\n 'and now as the night was senescent',\n 'and stardials pointed to morn ',\n 'as the stardials hinted of morn ',\n 'at the end of our path a liquescent',\n 'and nebulous lustre was born',\n 'out of which a miraculous crescent',\n 'arose with a duplicate horn ',\n 'astartes bediamonded crescent',\n 'distinct with its duplicate horn',\n 'and i said  she is warmer than dian',\n 'she rolls through an ether of sighs ',\n 'she revels in a region of sighs',\n 'she has seen that the tears are not dry on',\n 'these cheeks where the worm never dies',\n 'and has come past the stars of the lion',\n 'to point us the path to the skies ',\n 'to the lethean peace of the skies ',\n 'come up in despite of the lion',\n 'to shine on us with her bright eyes ',\n 'come up through the lair of the lion',\n 'with love in her luminous eyes',\n 'but psyche uplifting her finger',\n 'said  sadly this star i mistrust ',\n 'her pallor i strangely mistrust ',\n 'oh hasten  oh let us not linger',\n 'oh fly  let us fly  for we must',\n 'in terror she spoke letting sink her',\n 'wings until they trailed in the dust ',\n 'in agony sobbed letting sink her',\n 'plumes till they trailed in the dust ',\n 'till they sorrowfully trailed in the dust',\n 'i replied  this is nothing but dreaming',\n 'let us on by this tremulous light',\n 'let us bathe in this crystalline light',\n 'its sybilic splendor is beaming',\n 'with hope and in beauty tonight ',\n 'see  it flickers up the sky through the night',\n 'ah we safely may trust to its gleaming',\n 'and be sure it will lead us aright ',\n 'we safely may trust to a gleaming',\n 'that cannot but guide us aright',\n 'since it flickers up to heaven through the night',\n 'thus i pacified psyche and kissed her',\n 'and tempted her out of her gloom ',\n 'and conquered her scruples and gloom',\n 'and we passed to the end of the vista',\n 'but were stopped by the door of a tomb ',\n 'by the door of a legended tomb',\n 'and i said  what is written sweet sister',\n 'on the door of this legended tomb',\n 'she replied  ulalume  ulalume ',\n 'â€˜tis the vault of thy lost ulalume',\n 'then my heart it grew ashen and sober',\n 'as the leaves that were crisped and sere ',\n 'as the leaves that were withering and sere',\n 'and i cried  it was surely october',\n 'on this very night of last year',\n 'that i journeyed  i journeyed down here ',\n 'that i brought a dread burden down here',\n 'on this night of all nights in the year',\n 'ah what demon has tempted me here',\n 'well i know now this dim lake of auber ',\n 'this misty mid region of weir ',\n 'well i know now this dank tarn of auber ',\n 'this ghoulhaunted woodland of weir',\n 'wreathed in myrtle my sword ill conceal',\n 'like those champions devoted and brave',\n 'when they plunged in the tyrant their steel',\n 'and to athens deliverance gave',\n 'beloved heroes your deathless souls roam',\n 'in the joy breathing isles of the blest',\n 'where the mighty of old have their home ',\n 'where achilles and diomed rest',\n 'in fresh myrtle my blade ill entwine',\n 'like harmodious the gallant and good',\n 'when he made at the tutelar shrine',\n 'a libation of tyrannys blood',\n 'ye deliverers of athens from shame',\n 'ye avengers of libertys wrongs',\n 'endless ages shall cherish your fame',\n 'embalmed in their echoing songs',\n 'of all who hail thy presence as the morning',\n 'of all to whom thine absence is the night',\n 'the blotting utterly from out high heaven',\n 'the sacred sun of all who weeping bless thee',\n 'hourly for hope for life ah above all',\n 'for the resurrection of deepburied faith',\n 'in truth in virtue in humanity',\n 'of all who on despairs unhallowed bed',\n 'lying down to die have suddenly arisen',\n 'at thy softmurmured words let there be light',\n 'at the softmurmured words that were fulfilled',\n 'in the seraphic glancing of thine eyes',\n 'of all who owe thee most whose gratitude',\n 'nearest resembles worship oh remember',\n 'the truest the most fervently devoted',\n 'and think that these weak lines are written by him',\n 'by him who as he pens them thrills to think',\n 'his spirit is communing with an angels',\n 'thou wouldst be loved then let thy heart',\n 'from its present pathway part not',\n 'being everything which now thou art',\n 'be nothing which thou art not',\n 'so with the world thy gentle ways',\n 'thy grace thy more than beauty',\n 'shall be an endless theme of praise',\n 'and love a simple duty',\n 'when from your gems of thought i turn',\n 'to those pure orbs your heart to learn',\n 'i scarce know which to prize most high',\n 'the bright idea or the bright deareye',\n 'of all who hail thy presence as the morning',\n 'of all to whom thine absence is the night',\n 'the blotting utterly from out high heaven',\n 'the sacred sun of all who weeping bless thee',\n 'hourly for hope for life ah above all',\n 'for the resurrection of deepburied faith',\n 'in truth in virtue in humanity',\n 'of all who on despairs unhallowed bed',\n 'lying down to die have suddenly arisen',\n 'at thy softmurmured words let there be light',\n 'at the softmurmured words that were fulfilled',\n 'in the seraphic glancing of thine eyes',\n 'of all who owe thee most whose gratitude',\n 'nearest resembles worship oh remember',\n 'the truest the most fervently devoted',\n 'and think that these weak lines are written by him',\n 'by him who as he pens them thrills to think',\n 'his spirit is communing with an angels',\n 'fair isle that from the fairest of all flowers',\n 'thy gentlest of all gentle names dost take',\n 'how many memories of what radiant hours',\n 'at sight of thee and thine at once awake',\n 'how many scenes of what departed bliss',\n 'how many thoughts of what entombed hopes',\n 'how many visions of a maiden that is',\n 'no more no more upon thy verdant slopes',\n 'no more alas that magical sad sound',\n 'transforming all thy charms shall please no more',\n 'thy memory no more accursed ground',\n 'henceforth i hold thy flowerenameled shore',\n 'o hyacinthine isle o purple zante',\n 'isola doro fior di levante',\n 'o i care not that my earthly lot',\n 'hath little of earth in it',\n 'that years of love have been forgot',\n 'in the fever of a minute',\n 'i heed not that the desolate',\n 'are happier sweet than i',\n 'but that you meddle with my fate',\n 'who am a passer by',\n 'it is not that my founts of bliss',\n 'are gushing strange with tears',\n 'or that the thrill of a single kiss',\n 'hath palsied many years',\n 'tis not that the flowers of twenty springs',\n 'which have witherd as they rose',\n 'lie dead on my heartstrings',\n 'with the weight of an age of snows',\n 'not that the grass o may it thrive',\n 'on my grave is growing or grown',\n 'but that while i am dead yet alive',\n 'i cannot be lady alone',\n 'sancta maria turn thine eyes ',\n 'upon the sinners sacrifice',\n 'of fervent prayer and humble love',\n 'from thy holy throne above',\n 'at morn  at noon  at twilight dim ',\n 'maria thou hast heard my hymn',\n 'in joy and wo  in good and ill ',\n 'mother of god be with me still',\n 'when the hours flew brightly by',\n 'and not a cloud obscured the sky',\n 'my soul lest it should truant be',\n 'thy grace did guide to thine and thee',\n 'now when storms of fate oercast',\n 'darkly my present and my past',\n 'let my future radiant shine',\n 'with sweet hopes of thee and thine',\n 'the bells ah the bells',\n 'the little silver bells',\n 'how fairylike a melody there floats',\n 'from their throats',\n 'from their merry little throats',\n 'from the silver tinkling throats',\n 'of the bells bells bells',\n 'of the bells',\n 'the bells ah the bells',\n 'the heavy iron bells',\n 'how horrible a monody there floats',\n 'from their throats',\n 'from their deeptoned throats',\n 'from their melancholy throats',\n 'how i shudder at the notes',\n 'of the bells bells bells',\n 'of the bells',\n 'how often we forget all time when lone',\n 'admiring natures universal throne',\n 'her woods her wilds her mountains the intense',\n 'reply of hers to our intelligence',\n 'in youth have i known one with whom the earth',\n 'in secret communing held as he with it',\n 'in daylight and in beauty from his birth',\n 'whose fervid flickering torch of life was lit',\n 'from the sun and stars whence he had drawn forth',\n 'a passionate light such for his spirit was fit',\n 'and yet that spirit knew not in the hour',\n 'of its own fervor what had oer it power',\n 'perhaps it may be that my mind is wrought',\n 'to a fever by the moonbeam that hangs oer',\n 'but i will half believe that wild light fraught',\n 'with more of sovereignty than ancient lore',\n 'hath ever told or is it of a thought',\n 'the unembodied essence and no more',\n 'that with a quickening spell doth oer us pass',\n 'as dew of the nighttime oer the summer grass',\n 'doth oer us pass when as th expanding eye',\n 'to the loved object so the tear to the lid',\n 'will start which lately slept in apathy',\n 'and yet it need not be that object hid',\n 'from us in life but common which doth lie',\n 'each hour before us but then only bid',\n 'with a strange sound as of a harpstring broken',\n 'to awake us tis a symbol and a token',\n 'of what in other worlds shall be and given',\n 'in beauty by our god to those alone',\n 'who otherwise would fall from life and heaven',\n 'drawn by their hearts passion and that tone',\n 'that high tone of the spirit which hath striven',\n 'tho not with faith with godliness whose throne',\n 'with desperate energy t hath beaten down',\n 'wearing its own deep feeling as a crown',\n 'not long ago the writer of these lines',\n 'in the mad pride of intellectuality',\n 'maintained the power of words denied that ever',\n 'a thought arose within the human brain',\n 'beyond the utterance of the human tongue',\n 'and now as if in mockery of that boast',\n 'two words two foreign soft dissyllables',\n 'italian tones made only to be murmured',\n 'by angels dreaming in the moonlit dew',\n 'that hangs like chains of pearl on hermon hill',\n 'have stirred from out the abysses of his heart',\n 'unthoughtlike thoughts that are the souls of thought',\n 'richer far wilder far diviner visions',\n 'than even seraph harper israfel',\n 'who has the sweetest voice of all gods creatures',\n 'could hope to utter and i my spells are broken',\n 'the pen falls powerless from my shivering hand',\n 'with thy dear name as text though bidden by thee',\n 'i cannot write i cannot speak or think',\n 'alas i cannot feel for tis not feeling',\n 'this standing motionless upon the golden',\n 'threshold of the wideopen gate of dreams',\n 'gazing entranced adown the gorgeous vista',\n 'and thrilling as i see upon the right',\n 'upon the left and all the way along',\n 'amid empurpled vapors far away',\n 'to where the prospect terminates thee only',\n 'beloved amid the earnest woes',\n 'that crowd around my earthly path',\n 'drear path alas where grows',\n 'not even one lonely rose',\n 'my soul at least a solace hath',\n 'in dreams of thee and therein knows',\n 'an eden of bland repose',\n 'and thus thy memory is to me',\n 'like some enchanted faroff isle',\n 'in some tumultuous sea',\n 'some ocean throbbing far and free',\n 'with storms but where meanwhile',\n 'serenest skies continually',\n 'just oer that one bright island smile',\n 'i saw thee once once only years ago',\n 'i must not say how many but not many',\n 'it was a july midnight and from out',\n 'a fullorbed moon that like thine own soul soaring',\n 'sought a precipitate pathway up through heaven',\n 'there fell a silverysilken veil of light',\n 'with quietude and sultriness and slumber',\n 'upon the upturned faces of a thousand',\n 'roses that grew in an enchanted garden',\n 'where no wind dared to stir unless on tiptoe',\n 'fell on the upturnd faces of these roses',\n 'that gave out in return for the lovelight',\n 'their odorous souls in an ecstatic death',\n 'fell on the upturnd faces of these roses',\n 'that smiled and died in this parterre enchanted',\n 'by thee and by the poetry of thy presence',\n 'clad all in white upon a violet bank',\n 'i saw thee half reclining while the moon',\n 'fell on the upturnd faces of the roses',\n 'and on thine own upturnd alas in sorrow',\n 'was it not fate that on this july midnight',\n 'was it not fate whose name is also sorrow',\n 'that bade me pause before that gardengate',\n 'to breathe the incense of those slumbering roses',\n 'no footstep stirred the hated world an slept',\n 'save only thee and me oh heaven oh god',\n 'how my heart beats in coupling those two words',\n 'save only thee and me i paused i looked',\n 'and in an instant all things disappeared',\n 'ah bear in mind this garden was enchanted',\n 'the pearly lustre of the moon went out',\n 'the mossy banks and the meandering paths',\n 'the happy flowers and the repining trees',\n 'were seen no more the very roses odors',\n 'died in the arms of the adoring airs',\n 'all all expired save thee save less than thou',\n 'save only the divine light in thine eyes',\n 'save but the soul in thine uplifted eyes',\n 'i saw but them they were the world to me',\n 'i saw but them saw only them for hours',\n 'saw only them until the moon went down',\n 'what wild hearthistories seemed to he enwritten',\n 'upon those crystalline celestial spheres',\n 'how dark a woe yet how sublime a hope',\n 'how silently serene a sea of pride',\n 'how daring an ambition yet how deep',\n 'how fathomless a capacity for love',\n 'but now at length dear dian sank from sight',\n 'into a western couch of thundercloud',\n 'and thou a ghost amid the entombing trees',\n 'didst glide away only thine eyes remained',\n 'they would not go they never yet have gone',\n 'lighting my lonely pathway home that night',\n 'they have not left me as my hopes have since',\n 'they follow me they lead me through the years',\n 'they are my ministers yet i their slave',\n 'their office is to illumine and enkindle',\n 'my duty to be saved by their bright light',\n 'and purified in their electric fire',\n 'and sanctified in their elysian fire',\n 'they fill my soul with beauty which is hope',\n 'and are far up in heaven the stars i kneel to',\n 'in the sad silent watches of my night',\n 'while even in the meridian glare of day',\n 'i see them still two sweetly scintillant',\n 'venuses unextinguished by the sun',\n 'the bowers whereat in dreams i see',\n 'the wantonest singing birds',\n 'are lips and all thy melody',\n 'of lipbegotten words',\n 'thine eyes in heaven of heart enshrined',\n 'then desolately fall',\n 'o god on my funereal mind',\n 'like starlight on a pall',\n 'thy heart thy heart i wake and sigh',\n 'and sleep to dream till day',\n 'of the truth that gold can never buy',\n 'of the baubles that it may',\n 'in heaven a spirit doth dwell',\n 'whose heartstrings are a lute',\n 'none sing so wildly well',\n 'as the angel israfel',\n 'and the giddy stars so legends tell',\n 'ceasing their hymns attend the spell',\n 'of his voice all mute',\n 'tottering above',\n 'in her highest noon',\n 'the enamored moon',\n 'blushes with love',\n 'while to listen the red levin',\n 'with the rapid pleiads even',\n 'which were seven',\n 'pauses in heaven',\n 'and they say the starry choir',\n 'and the other listening things',\n 'that israfelis fire',\n 'is owing to that lyre',\n 'by which he sits and sings',\n 'the trembling living wire',\n 'of those unusual strings',\n 'but the skies that angel trod',\n 'where deep thoughts are a duty',\n 'where loves a grownup god',\n 'where the houri glances are',\n 'imbued with all the beauty',\n 'which we worship in a star',\n 'therefore thou art not wrong',\n 'israfeli who despisest',\n 'an unimpassioned song',\n 'to thee the laurels belong',\n 'best bard because the wisest',\n 'merrily live and long',\n 'the ecstasies above',\n 'with thy burning measures suit',\n 'thy grief thy joy thy hate thy love',\n 'with the fervor of thy lute',\n 'well may the stars be mute',\n 'yes heaven is thine but this',\n 'is a world of sweets and sours',\n 'our flowers are merely flowers',\n 'and the shadow of thy perfect bliss',\n 'is the sunshine of ours',\n 'if i could dwell',\n 'where israfel',\n 'hath dwelt and he where i',\n 'he might not sing so wildly well',\n 'a mortal melody',\n 'while a bolder note than this might swell',\n 'from my lyre within the sky',\n 'science true daughter of old time thou art',\n 'who alterest all things with thy peering eyes',\n 'why preyest thou thus upon the poets heart',\n 'vulture whose wings are dull realities',\n 'how should he love thee or how deem thee wise',\n 'who wouldst not leave him in his wandering',\n 'to seek for treasure in the jewelled skies',\n 'albeit he soared with an undaunted wing',\n 'hast thou not dragged diana from her car',\n 'and driven the hamadryad from the wood',\n 'to seek a shelter in some happier star',\n 'hast thou not torn the naiad from her flood',\n 'the elfin from the green grass and from me',\n 'the summer dream beneath the tamarind tree',\n 'ill tell you a plan for gaining wealth',\n 'better than banking trade or leases',\n 'take a bank note and fold it up',\n 'and then you will find your money in creases',\n 'this wonderful plan without danger or loss',\n 'keeps your cash in your hands where nothing can trouble it',\n 'and every time that you fold it across',\n 'tis as plain as the light of the day that you double it',\n 'the skies they were ashen and sober',\n 'the leaves they were crisped and sere',\n 'the leaves they were withering and sere',\n 'it was night in the lonesome october',\n 'of my most immemorial year',\n 'it was hard by the dim lake of auber',\n 'in the misty mid region of weir',\n 'it was down by the dank tarn of auber',\n 'in the ghoulhaunted woodland of weir',\n 'here once through an alley titanic',\n 'of cypress i roamed with my soul',\n 'of cypress with psyche my soul',\n 'there were days when my heart was volcanic',\n 'as the scoriac rivers that roll',\n 'as the lavas that restlessly roll',\n 'their sulphurous currents down yaanek',\n 'in the ultimate climes of the pole',\n 'that groan as they roll down mount yaanek',\n 'in the realms of the boreal pole',\n 'our talk had been serious and sober',\n 'but our thoughts they were palsied and sere',\n 'our memories were treacherous and sere',\n 'for we knew not the month was october',\n 'and we marked not the night of the year',\n 'ah night of all nights in the year',\n 'we noted not the dim lake of auber',\n 'though once we had journeyed down here',\n 'remembered not the dank tarn of auber',\n 'nor the ghoulhaunted woodland of weir',\n 'and now as the night was senescent',\n 'and stardials pointed to morn',\n 'as the stardials hinted of morn',\n 'at the end of our path a liquescent',\n 'and nebulous lustre was born',\n 'out of which a miraculous crescent',\n 'arose with a duplicate horn',\n 'astartes bediamonded crescent',\n 'distinct with its duplicate horn',\n 'and i said she is warmer than dian',\n 'she rolls through an ether of sighs',\n 'she revels in a region of sighs',\n 'she has seen that the tears are not dry on',\n 'these cheeks where the worm never dies',\n 'and has come past the stars of the lion',\n 'to point us the path to the skies',\n 'to the lethean peace of the skies',\n 'come up in despite of the lion',\n 'to shine on us with her bright eyes',\n 'come up through the lair of the lion',\n 'with love in her luminous eyes',\n 'but psyche uplifting her finger',\n 'said sadly this star i mistrust',\n 'her pallor i strangely mistrust',\n 'oh hasten oh let us not linger',\n 'oh fly let us fly for we must',\n 'in terror she spoke letting sink her',\n 'wings until they trailed in the dust',\n 'in agony sobbed letting sink her',\n 'plumes till they trailed in the dust',\n 'till they sorrowfully trailed in the dust',\n 'i replied this is nothing but dreaming',\n 'let us on by this tremulous light',\n 'let us bathe in this crystalline light',\n 'its sybilic splendor is beaming',\n 'with hope and in beauty tonight',\n 'see it flickers up the sky through the night',\n 'ah we safely may trust to its gleaming',\n 'and be sure it will lead us aright',\n 'we safely may trust to a gleaming',\n 'that cannot but guide us aright',\n 'since it flickers up to heaven through the night',\n 'thus i pacified psyche and kissed her',\n 'and tempted her out of her gloom',\n 'and conquered her scruples and gloom',\n 'and we passed to the end of the vista',\n 'but were stopped by the door of a tomb',\n 'by the door of a legended tomb',\n 'and i said what is written sweet sister',\n 'on the door of this legended tomb',\n 'she replied ulalume ulalume',\n 'tis the vault of thy lost ulalume',\n 'then my heart it grew ashen and sober',\n 'as the leaves that were crisped and sere',\n 'as the leaves that were withering and sere',\n 'and i cried it was surely october',\n 'on this very night of last year',\n 'that i journeyed i journeyed down here',\n 'that i brought a dread burden down here',\n 'on this night of all nights in the year',\n 'ah what demon has tempted me here',\n 'well i know now this dim lake of auber',\n 'this misty mid region of weir',\n 'well i know now this dank tarn of auber',\n 'this ghoulhaunted woodland of weir',\n 'how often we forget all time when lone',\n 'admiring natures universal throne',\n 'her woods  her winds  her mountains  the intense',\n 'reply of hers to our intelligence',\n 'in youth i have known one with whom the earth',\n 'in secret communing held  as he with it',\n 'in daylight and in beauty from his birth',\n 'whose fervid flickering torch of life was lit',\n 'from the sun and stars whence he had drawn forth',\n 'a passionate light  such for his spirit was fit ',\n 'and yet that spirit knew  not in the hour',\n 'of its own fervour  what had oer it power',\n 'perhaps it may be that my mind is wrought',\n 'to a fever by the moonbeam that hangs oer',\n 'but i will half believe that wild light fraught',\n 'with more of sovereignty than ancient lore',\n 'hath ever told  or is it of a thought',\n 'the unembodied essence and no more',\n 'that with a quickening spell doth oer us pass',\n 'as dew of the night time oer the summer grass',\n 'doth oer us pass when as th expanding eye',\n 'to the loved object  so the tear to the lid',\n 'will start which lately slept in apathy',\n 'and yet it need not be  that object hid',\n 'from us in life  but common  which doth lie',\n 'each hour before us  but then only bid',\n 'with a strange sound as of a harpstring broken',\n 't awake us  tis a symbol and a token ',\n 'of what in other worlds shall be  and given',\n 'in beauty by our god to those alone',\n 'who otherwise would fall from life and heaven',\n 'drawn by their hearts passion and that tone',\n 'that high tone of the spirit which hath striven',\n 'though not with faith  with godliness  whose throne',\n 'with desperate energy t hath beaten down',\n 'wearing its own deep feeling as a crown',\n 'tis said that when',\n 'the hands of men',\n 'tamed this primeval wood',\n 'and hoary trees with groans of woe',\n 'like warriors by an unknown foe',\n 'were in their strength subdued',\n 'the virgin earth gave instant birth',\n 'to springs that neer did flow',\n 'that in the sun did rivulets run',\n 'and all around rare flowers did blow',\n 'the wild rose pale perfumed the gale',\n 'and the queenly lily adown the dale',\n 'whom the sun and the dew',\n 'and the winds did woo',\n 'with the gourd and the grape luxuriant grew',\n 'so when in tears',\n 'the love of years',\n 'is wasted like the snow',\n 'and the fine fibrils of its life',\n 'by the rude wrong of instant strife',\n 'are broken at a blow',\n 'within the heart',\n 'do springs upstart',\n 'of which it doth now know',\n 'and strange sweet dreams',\n 'like silent streams',\n 'that from new fountains overflow',\n 'with the earlier tide',\n 'of rivers glide',\n 'deep in the heart whose hope has died',\n 'quenching the fires its ashes hide',\n 'its ashes whence will spring and grow',\n 'sweet flowers ere long',\n 'the rare and radiant flowers of song',\n 'in the greenest of our valleys',\n 'by good angels tenanted',\n 'once fair and stately palace ',\n 'radiant palace reared its head',\n 'in the monarch thoughts dominion ',\n 'it stood there',\n 'never seraph spread a pinion',\n 'over fabric half so fair',\n 'banners yellow glorious golden',\n 'on its roof did float and flow',\n 'this all this was in the olden',\n 'time long ago',\n 'and every gentle air that dallied',\n 'in that sweet day',\n 'along the ramparts plumed and pallid',\n 'a winged odour went away',\n 'wanderers in that happy valley',\n 'through two luminous windows saw',\n 'spirits moving musically',\n 'to a lutes welltuned law',\n 'round about a throne where sitting',\n 'porphyrogene',\n 'in state his glory well befitting',\n 'the ruler of the realm was seen',\n 'and all with pearl and ruby glowing',\n 'was the fair palace door',\n 'through which came flowing flowing flowing',\n 'and sparkling evermore',\n 'a troop of echoes whose sweet duty',\n 'was but to sing',\n 'in voices of surpassing beauty',\n 'the wit and wisdom of their king',\n 'but evil things in robes of sorrow',\n 'assailed the monarchs high estate',\n 'ah let us mourn for never morrow',\n 'shall dawn upon him desolate',\n 'and round about his home the glory',\n 'that blushed and bloomed',\n 'is but a dimremembered story',\n 'of the old time entombed',\n 'and travellers now within that valley',\n 'through the redlitten windows see',\n 'vast forms that move fantastically',\n 'to a discordant melody',\n 'while like a rapid ghastly river',\n 'through the pale door',\n 'a hideous throng rush out forever',\n 'and laugh but smile no more',\n 'two roads diverged in a yellow wood',\n 'and sorry i could not travel both',\n 'and be one traveler long i stood',\n 'and looked down one as far as i could',\n 'to where it bent in the undergrowth',\n 'then took the other as just as fair',\n 'and having perhaps the better claim',\n 'because it was grassy and wanted wear',\n 'though as for that the passing there',\n 'had worn them really about the same',\n 'and both that morning equally lay',\n 'in leaves no step had trodden black',\n 'oh i kept the first for another day',\n 'yet knowing how way leads on to way',\n 'i doubted if i should ever come back',\n 'i shall be telling this with a sigh',\n 'somewhere ages and ages hence',\n 'two roads diverged in a wood and i',\n 'i took the one less traveled by',\n 'and that has made all the difference',\n 'whose woods these are i think i know',\n 'his house is in the village though',\n 'he will not see me stopping here',\n 'to watch his woods fill up with snow',\n 'my little horse must think it queer',\n 'to stop without a farmhouse near',\n 'between the woods and frozen lake',\n 'the darkest evening of the year',\n 'he gives his harness bells a shake',\n 'to ask if there is some mistake',\n 'the only other sounds the sweep',\n 'of easy wind and downy flake',\n 'the woods are lovely dark and deep',\n 'but i have promises to keep',\n 'and miles to go before i sleep',\n 'and miles to go before i sleep',\n 'some say the world will end in fire',\n 'some say in ice',\n 'from what ive tasted of desire',\n 'i hold with those who favor fire',\n 'but if it had to perish twice',\n 'i think i know enough of hate',\n 'to say that for destruction ice',\n 'is also great',\n 'and would suffice',\n 'natures first green is gold',\n 'her hardest hue to hold',\n 'her early leafs a flower',\n 'but only so an hour',\n 'then leaf subsides to leaf',\n 'so eden sank to grief',\n 'so dawn goes down to day',\n 'nothing gold can stay',\n 'i have been one acquainted with the night',\n 'i have walked out in rain  and back in rain',\n 'i have outwalked the furthest city light',\n 'i have looked down the saddest city lane',\n 'i have passed by the watchman on his beat',\n 'and dropped my eyes unwilling to explain',\n 'i have stood still and stopped the sound of feet',\n 'when far away an interrupted cry',\n 'came over houses from another street',\n 'but not to call me back or say goodbye',\n 'and further still at an unearthly height',\n 'one luminary clock against the sky',\n 'proclaimed the time was neither wrong nor right',\n 'i have been one acquainted with the night',\n 'when i go up through the mowing field',\n 'the headless aftermath',\n 'smoothlaid like thatch with the heavy dew',\n 'half closes the garden path',\n 'and when i come to the garden ground',\n 'the whir of sober birds',\n 'up from the tangle of withered weeds',\n 'is sadder than any words',\n 'a tree beside the wall stands bare',\n 'but a leaf that lingered brown',\n 'disturbed i doubt not by my thought',\n 'comes softly rattling down',\n 'i end not far from my going forth',\n 'by picking the faded blue',\n 'of the last remaining aster flower',\n 'to carry again to you',\n 'a voice said look me in the stars',\n 'and tell me truly men of earth',\n 'if all the soulandbody scars',\n 'were not too much to pay for birth',\n 'to think to know the country and now know',\n 'the hillside on the day the sun lets go',\n 'ten million silver lizards out of snow',\n 'as often as ive seen it done before',\n 'i cant pretend to tell the way its done',\n 'it looks as if some magic of the sun',\n 'lifted the rug that bred them on the floor',\n 'and the light breaking on them made them run',\n 'but if i though to stop the wet stampede',\n 'and caught one silver lizard by the tail',\n 'and put my foot on one without avail',\n 'and threw myself wetelbowed and wetkneed',\n 'in front of twenty others wriggling speed',\n 'in the confusion of them all aglitter',\n 'and birds that joined in the excited fun',\n 'by doubling and redoubling song and twitter',\n 'i have no doubt id end by holding none',\n 'it takes the moon for this the suns a wizard',\n 'by all i tell but sos the moon a witch',\n 'from the high west she makes a gentle cast',\n 'and suddenly without a jerk or twitch',\n 'she has her speel on every single lizard',\n 'i fancied when i looked at six oclock',\n 'the swarm still ran and scuttled just as fast',\n 'the moon was waiting for her chill effect',\n 'i looked at nine the swarm was turned to rock',\n 'in every lifelike posture of the swarm',\n 'transfixed on mountain slopes almost erect',\n 'across each other and side by side they lay',\n 'the spell that so could hold them as they were',\n 'was wrought through trees without a breath of storm',\n 'to make a leaf if there had been one stir',\n 'one lizard at the end of every ray',\n 'the thought of my attempting such a stray',\n 'once on the kind of day called weather breeder',\n 'when the heat slowly hazes and the sun',\n 'by its own power seems to be undone',\n 'i was half boring through half climbing through',\n 'a swamp of cedar choked with oil of cedar',\n 'and scurf of plants and weary and overheated',\n 'and sorry i ever left the road i knew',\n 'i paused and rested on a sort of hook',\n 'that had me by the coat as good as seated',\n 'and since there was no other way to look',\n 'looked up toward heaven and there against the blue',\n 'stood over me a resurrected tree',\n 'a tree that had been down and raised againâ€”',\n 'a barkless spectre he had halted too',\n 'as if for fear of treading upon me',\n 'i saw the strange position of his handsâ€”',\n 'up at his shoulders dragging yellow strands',\n 'of wire with something in it from men to men',\n 'you here i said where arent you nowadays',\n 'and whats the news you carryâ€”if you know',\n 'and tell me where youre off forâ€”montreal',\n 'me im not off for anywhere at all',\n 'sometimes i wander out of beaten ways',\n 'half looking for the orchid calypso',\n 'brown lived at such a lofty farm',\n 'that everyone for miles could see',\n 'his lantern when he did his chores',\n 'in winter after halfpast three',\n 'and many must have seen him make',\n 'his wild descent from there one night',\n 'cross lots cross walls cross everything',\n 'describing rings of lantern light',\n 'between the house and barn the gale',\n 'got him by something he had on',\n 'and blew him out on the icy crust',\n 'that cased the world and he was gone',\n 'walls were all buried trees were few',\n 'he saw no stay unless he stove',\n 'a hole in somewhere with his heel',\n 'but though repeatedly he strove',\n 'and stamped and said things to himself',\n 'and sometimes something seemed to yield',\n 'he gained no foothold but pursued',\n 'his journey down from field to field',\n 'sometimes he came with arms outspread',\n 'like wings revolving in the scene',\n 'upon his longer axis and',\n 'with no small dignity of mien',\n 'faster or slower as he chanced',\n 'sitting or standing as he chose',\n 'according as he feared to risk',\n 'his neck or thought to spare his clothes',\n 'he never let the lantern drop',\n 'and some exclaimed who saw afar',\n 'the figures he described with it',\n 'i wonder what those signals are',\n 'brown makes at such an hour of night',\n 'hes celebrating something strange',\n 'i wonder if hes sold his farm',\n 'or been made master of the grange',\n 'he reeled he lurched he bobbed he checked',\n 'he fell and made the lantern rattle',\n 'but saved the light from going out',\n 'so halfway down he fought the battle',\n 'incredulous of his own bad luck',\n 'and then becoming reconciled',\n 'to everything he gave it up',\n 'and came down like a coasting child',\n 'wellâ€”iâ€”beâ€” that was all he said',\n 'as standing in the river road',\n 'he looked back up the slippery slope',\n 'two miles it was to his abode',\n 'sometimes as an authority',\n 'on motorcars im asked if i',\n 'should say our stock was petered out',\n 'and this is my sincere reply',\n 'yankees are what they always were',\n 'dont think brown ever gave up hope',\n 'of getting home again because',\n 'he couldnt climb that slippery slope',\n 'or even thought of standing there',\n 'until the january thaw',\n 'should take the polish off the crust',\n 'he bowed with grace to natural law',\n 'and then went round it on his feet',\n 'after the manner of our stock',\n 'not much concerned for those to whom',\n 'at that particular time oclock',\n 'it must have looked as if the course',\n 'he steered was really straight away',\n 'from that which he was headed forâ€”',\n 'not much concerned for them i say',\n 'no more so than became a manâ€”',\n 'and politician at odd seasons',\n 'ive kept brown standing in the cold',\n 'while i invested him with reasons',\n 'but now he snapped his eyes three times',\n 'then shook his lantern saying iles',\n 'bout out and took the long way home',\n 'by road a matter of several miles',\n 'now that theyve got it settled whose i be',\n 'im going to tell them something they wont like',\n 'theyve got it settled wrong and i can prove it',\n 'flattered i must be to have two towns fighting',\n 'to make a present of me to each other',\n 'they dont dispose me either one of them',\n 'to spare them any trouble double troubles',\n 'always the witchs motto anyway',\n 'ill double theirs for both of them you watch me',\n 'theyll find theyve got the whole thing to do over',\n 'that is if facts is what they want to go by',\n 'they set a lot now dont they by a record',\n 'of arthur amys having once been up',\n 'for hog reeve in march meeting here in warren',\n 'i could have told them any time this twelvemonth',\n 'the arthur amy i was married to',\n 'couldnt have been the one they say was up',\n 'in warren at march meeting for the reason',\n 'he want but fifteen at the time they say',\n 'the arthur amy i was married to',\n 'voted the only times he ever voted',\n 'which wasnt many in the town of wentworth',\n 'one of the times was when twas in the warrant',\n 'to see if the town wanted to take over',\n 'the tote road to our clearing where we lived',\n 'ill tell you whod remember heman lapish',\n 'their arthur amy was the father of mine',\n 'so now theyve dragged it through the law courts once',\n 'i guess theyd better drag it through again',\n 'wentworth and warrens both good towns to live in',\n 'only i happen to prefer to live',\n 'in wentworth from now on and when alls said',\n 'rights right and the temptation to do right',\n 'when i can hurt someone by doing it',\n 'has always been too much for me it has',\n 'i know of some folks thatd be set up',\n 'at having in their town a noted witch',\n 'but most would have to think of the expense',\n 'that even i would be they ought to know',\n 'that as a witch id often milk a bat',\n 'and thatd be enough to last for days',\n 'itd make my position stronger i think',\n 'if i was to consent to give some sign',\n 'to make it surer that i was a witch',\n 'it want no sign i spose when mallice huse',\n 'said that i took him out in his old age',\n 'and rode all over everything on him',\n 'until id had him worn to skin and bones',\n 'and if id left him hitched unblanketed',\n 'in front of one town hall id left him hitched',\n 'in front of every one in grafton county',\n 'some cried shame on me not to blanket him',\n 'the poor old man it would have been all right',\n 'if some one hadnt said to gnaw the posts',\n 'he stood beside and leave his trade mark on them',\n 'so they could recognize them not a post',\n 'that they could hear tell of was scarified',\n ...]"
     },
     "execution_count": 188,
     "metadata": {},
     "output_type": "execute_result"
    }
   ],
   "source": [
    "input_texts"
   ]
  },
  {
   "cell_type": "markdown",
   "metadata": {},
   "source": [
    "['lo death hath reard himself a throne',\n",
    " 'in a strange city all alone',\n",
    " 'far down within the dim west',\n",
    " 'where the good and the bad and the worst and the best',\n",
    " 'have gone to their eternal rest',\n",
    " ]"
   ]
  },
  {
   "cell_type": "code",
   "execution_count": 189,
   "metadata": {},
   "outputs": [],
   "source": [
    "x_train, x_test, y_train, y_test = train_test_split(input_texts, labels, test_size=0.2, train_size=0.80)"
   ]
  },
  {
   "cell_type": "code",
   "execution_count": 190,
   "metadata": {},
   "outputs": [
    {
     "data": {
      "text/plain": "(1726, 432)"
     },
     "execution_count": 190,
     "metadata": {},
     "output_type": "execute_result"
    }
   ],
   "source": [
    "len(y_train), len(y_test)"
   ]
  },
  {
   "cell_type": "code",
   "execution_count": 191,
   "outputs": [
    {
     "data": {
      "text/plain": "([1, 1, 0, 1, 1],\n ['son you wouldnt want to tell him what we have',\n  'it seems as if and thats not all hes helpless',\n  'in the monarch thoughts dominion ',\n  'the upper shelf the tin box thats the one',\n  'a likeness to surprise the thrilly tourist'])"
     },
     "execution_count": 191,
     "metadata": {},
     "output_type": "execute_result"
    }
   ],
   "source": [
    "y_train[:5], x_train[:5]"
   ],
   "metadata": {
    "collapsed": false
   }
  },
  {
   "cell_type": "code",
   "execution_count": 192,
   "outputs": [],
   "source": [
    "idx = 1\n",
    "word2idx = {'<unk>': 0}"
   ],
   "metadata": {
    "collapsed": false
   }
  },
  {
   "cell_type": "code",
   "execution_count": 193,
   "outputs": [],
   "source": [
    "# populate word2idx\n",
    "\n",
    "for text in x_train:\n",
    "  tokens = text.split()\n",
    "\n",
    "  for token in tokens:\n",
    "    if token not in word2idx:\n",
    "      word2idx[token] = idx\n",
    "      idx += 1"
   ],
   "metadata": {
    "collapsed": false
   }
  },
  {
   "cell_type": "code",
   "execution_count": 194,
   "outputs": [
    {
     "data": {
      "text/plain": "{'<unk>': 0,\n 'son': 1,\n 'you': 2,\n 'wouldnt': 3,\n 'want': 4,\n 'to': 5,\n 'tell': 6,\n 'him': 7,\n 'what': 8,\n 'we': 9,\n 'have': 10,\n 'it': 11,\n 'seems': 12,\n 'as': 13,\n 'if': 14,\n 'and': 15,\n 'thats': 16,\n 'not': 17,\n 'all': 18,\n 'hes': 19,\n 'helpless': 20,\n 'in': 21,\n 'the': 22,\n 'monarch': 23,\n 'thoughts': 24,\n 'dominion': 25,\n 'upper': 26,\n 'shelf': 27,\n 'tin': 28,\n 'box': 29,\n 'one': 30,\n 'a': 31,\n 'likeness': 32,\n 'surprise': 33,\n 'thrilly': 34,\n 'tourist': 35,\n 'is': 36,\n 'sunshine': 37,\n 'of': 38,\n 'ours': 39,\n 'another': 40,\n 'from': 41,\n 'bedroom': 42,\n 'attic': 43,\n 'arthur': 44,\n 'amys': 45,\n 'having': 46,\n 'once': 47,\n 'been': 48,\n 'up': 49,\n 'because': 50,\n 'was': 51,\n 'grassy': 52,\n 'wanted': 53,\n 'wear': 54,\n 'stand': 55,\n 'together': 56,\n 'on': 57,\n 'craters': 58,\n 'verge': 59,\n 'but': 60,\n 'pipes': 61,\n 'there': 62,\n 'smoking': 63,\n 'jug': 64,\n 'theyve': 65,\n 'got': 66,\n 'settled': 67,\n 'wrong': 68,\n 'i': 69,\n 'can': 70,\n 'prove': 71,\n 'every': 72,\n 'way': 73,\n 'may': 74,\n 'please': 75,\n 'yourself': 76,\n 'saved': 77,\n 'light': 78,\n 'going': 79,\n 'out': 80,\n 'chimney': 81,\n 'that': 82,\n 'only': 83,\n 'would': 84,\n 'serve': 85,\n 'remind': 86,\n 'me': 87,\n '2o3': 88,\n 'let': 89,\n 'them': 90,\n 'stay': 91,\n 'since': 92,\n 'they': 93,\n 'went': 94,\n 'breathe': 95,\n 'incense': 96,\n 'those': 97,\n 'slumbering': 98,\n 'roses': 99,\n 'with': 100,\n 'gourd': 101,\n 'grape': 102,\n 'luxuriant': 103,\n 'grew': 104,\n 'she': 105,\n 'never': 106,\n 'tended': 107,\n 'anything': 108,\n 'herself': 109,\n 'passionate': 110,\n 'such': 111,\n 'for': 112,\n 'his': 113,\n 'spirit': 114,\n 'fit': 115,\n 'shut': 116,\n 'life': 117,\n 'lived': 118,\n 'her': 119,\n 'whole': 120,\n 'hadnt': 121,\n 'long': 122,\n 'suspected': 123,\n 'where': 124,\n 'were': 125,\n 'by': 126,\n 'now': 127,\n 'pull': 128,\n 'your': 129,\n 'ladder': 130,\n 'road': 131,\n 'behind': 132,\n 'raised': 133,\n 'voice': 134,\n 'against': 135,\n 'closing': 136,\n 'door': 137,\n 'angel': 138,\n 'israfel': 139,\n 'old': 140,\n 'stock': 141,\n 'counts': 142,\n 'ideals': 143,\n 'said': 144,\n 'sadly': 145,\n 'this': 146,\n 'star': 147,\n 'mistrust': 148,\n 'rude': 149,\n 'instant': 150,\n 'strife': 151,\n 'then': 152,\n 'shook': 153,\n 'lantern': 154,\n 'saying': 155,\n 'iles': 156,\n 'could': 157,\n 'told': 158,\n 'any': 159,\n 'time': 160,\n 'twelvemonth': 161,\n 'why': 162,\n 'take': 163,\n 'seats': 164,\n 'here': 165,\n 'cellar': 166,\n 'wall': 167,\n 'vacuum': 168,\n 'filmy': 169,\n 'heaven': 170,\n 'us': 171,\n 'bathe': 172,\n 'crystalline': 173,\n 'my': 174,\n 'grave': 175,\n 'growing': 176,\n 'or': 177,\n 'grown': 178,\n 'shell': 179,\n 'come': 180,\n 'back': 181,\n 'bless': 182,\n 'im': 183,\n 'mother': 184,\n 'much': 185,\n 'concerned': 186,\n 'whom': 187,\n 'left': 188,\n 'an': 189,\n 'open': 190,\n 'cool': 191,\n 'room': 192,\n 'off': 193,\n 'theirs': 194,\n 'interlock': 195,\n 'had': 196,\n 'budded': 197,\n 'before': 198,\n 'boughs': 199,\n 'piled': 200,\n 'position': 201,\n 'look': 202,\n 'too': 203,\n 'close': 204,\n 'hold': 205,\n 'who': 206,\n 'favor': 207,\n 'fire': 208,\n 'crib': 209,\n 'he': 210,\n 'slept': 211,\n 'sures': 212,\n 'youre': 213,\n 'born': 214,\n 'israfelis': 215,\n 'stardials': 216,\n 'hinted': 217,\n 'morn': 218,\n 'though': 219,\n 'name': 220,\n 'should': 221,\n 'matter': 222,\n 'between': 223,\n 'being': 224,\n 'everything': 225,\n 'which': 226,\n 'thou': 227,\n 'art': 228,\n 'surest': 229,\n 'thing': 230,\n 'are': 231,\n 'riders': 232,\n 'loved': 233,\n 'object': 234,\n 'so': 235,\n 'tear': 236,\n 'lid': 237,\n 'hurt': 238,\n 'hen': 239,\n 'ought': 240,\n 'see': 241,\n 'four': 242,\n 'cards': 243,\n 'yours': 244,\n 'three': 245,\n 'mine': 246,\n 'each': 247,\n 'branch': 248,\n 'soul': 249,\n 'at': 250,\n 'least': 251,\n 'solace': 252,\n 'hath': 253,\n 'runs': 254,\n 'unbridled': 255,\n 'its': 256,\n 'course': 257,\n 'no': 258,\n 'swellings': 259,\n 'hint': 260,\n 'winds': 261,\n 'be': 262,\n 'brush': 263,\n 'crooked': 264,\n 'stroke': 265,\n 'arent': 266,\n 'nowadays': 267,\n 'disturbed': 268,\n 'doubt': 269,\n 'thought': 270,\n 'hens': 271,\n 'blowing': 272,\n 'about': 273,\n 'ralle': 274,\n 'sioux': 275,\n 'control': 276,\n 'ran': 277,\n 'shouted': 278,\n 'domes': 279,\n 'spires': 280,\n 'kingly': 281,\n 'halls': 282,\n 'how': 283,\n 'neighbour': 284,\n 'just': 285,\n 'man': 286,\n 'after': 287,\n 'dropped': 288,\n 'like': 289,\n 'child': 290,\n 'started': 291,\n 'above': 292,\n 'stove': 293,\n 'according': 294,\n 'feared': 295,\n 'risk': 296,\n 'happier': 297,\n 'sweet': 298,\n 'than': 299,\n 'leaves': 300,\n 'withering': 301,\n 'sere': 302,\n 'dont': 303,\n 'voices': 304,\n 'seem': 305,\n 'say': 306,\n 'thinks': 307,\n 'when': 308,\n 'wind': 309,\n 'makes': 310,\n 'night': 311,\n 'strangely': 312,\n 'wish': 313,\n 'give': 314,\n 'fifty': 315,\n 'dollars': 316,\n 'langshang': 317,\n 'cock': 318,\n 'ask': 319,\n 'joe': 320,\n 'easy': 321,\n 'downy': 322,\n 'flake': 323,\n 'crew': 324,\n 'failed': 325,\n 'o': 326,\n 'god': 327,\n 'funereal': 328,\n 'mind': 329,\n 'drop': 330,\n 'bird': 331,\n 'angelic': 332,\n 'gift': 333,\n 'lest': 334,\n 'truant': 335,\n 'dew': 336,\n 'nighttime': 337,\n 'oer': 338,\n 'summer': 339,\n 'grass': 340,\n 'evil': 341,\n 'things': 342,\n 'robes': 343,\n 'sorrow': 344,\n 'sun': 345,\n 'stars': 346,\n 'whence': 347,\n 'drawn': 348,\n 'forth': 349,\n 'bout': 350,\n 'took': 351,\n 'home': 352,\n 'storms': 353,\n 'meanwhile': 354,\n 'did': 355,\n 'rivulets': 356,\n 'run': 357,\n 'watched': 358,\n 'forty': 359,\n 'holes': 360,\n 'their': 361,\n 'hearts': 362,\n 'passion': 363,\n 'tone': 364,\n 'sacred': 365,\n 'weeping': 366,\n 'thee': 367,\n 'footstep': 368,\n 'stirred': 369,\n 'hated': 370,\n 'world': 371,\n 'small': 372,\n 'good': 373,\n 'wild': 374,\n 'either': 375,\n 'cloud': 376,\n 'smoke': 377,\n 'oh': 378,\n 'kept': 379,\n 'first': 380,\n 'day': 381,\n 'glass': 382,\n 'case': 383,\n 'till': 384,\n 'well': 385,\n 'toward': 386,\n 'noon': 387,\n 'storm': 388,\n 'down': 389,\n 'whatever': 390,\n 'cost': 391,\n 'apiece': 392,\n 'pound': 393,\n 'think': 394,\n 'mad': 395,\n 'more': 396,\n 'salt': 397,\n 'wherewith': 398,\n 'theyre': 399,\n 'salted': 400,\n 'shall': 401,\n 'undivided': 402,\n 'saturn': 403,\n 'mars': 404,\n 'thine': 405,\n 'absence': 406,\n 'warn': 407,\n 'pallor': 408,\n 'groan': 409,\n 'roll': 410,\n 'mount': 411,\n 'yaanek': 412,\n 'albeit': 413,\n 'soared': 414,\n 'undaunted': 415,\n 'wing': 416,\n 'heart': 417,\n 'ashen': 418,\n 'sober': 419,\n 'utmost': 420,\n 'sad': 421,\n 'silent': 422,\n 'watches': 423,\n 'brown': 424,\n 'lofty': 425,\n 'farm': 426,\n 'fur': 427,\n 'trade': 428,\n 'broken': 429,\n 'blow': 430,\n 'ever': 431,\n 'cared': 432,\n 'himself': 433,\n 'turn': 434,\n 'doll': 435,\n 'pasture': 436,\n 'rig': 437,\n 'eden': 438,\n 'sank': 439,\n 'grief': 440,\n 'wrought': 441,\n 'through': 442,\n 'trees': 443,\n 'without': 444,\n 'breath': 445,\n 'these': 446,\n 'cheeks': 447,\n 'worm': 448,\n 'dies': 449,\n 'mask': 450,\n 'viol': 451,\n 'vine': 452,\n 'wouldst': 453,\n 'leave': 454,\n 'wandering': 455,\n 'speaking': 456,\n 'singing': 457,\n 'bandmusic': 458,\n 'playing': 459,\n 'used': 460,\n 'live': 461,\n 'robinsons': 462,\n 'friend': 463,\n 'two': 464,\n 'own': 465,\n 'isnt': 466,\n 'hell': 467,\n 'know': 468,\n 'even': 469,\n 'ive': 470,\n 'some': 471,\n 'news': 472,\n 'maybe': 473,\n 'poetry': 474,\n 'thy': 475,\n 'presence': 476,\n 'anyone': 477,\n 'has': 478,\n 'speel': 479,\n 'single': 480,\n 'lizard': 481,\n 'hearthistories': 482,\n 'seemed': 483,\n 'enwritten': 484,\n 'sit': 485,\n 'resemble': 486,\n 'nothing': 487,\n 'hall': 488,\n 'finished': 489,\n 'theres': 490,\n 'dite': 491,\n 'many': 492,\n 'comfort': 493,\n 'stood': 494,\n 'still': 495,\n 'stopped': 496,\n 'sound': 497,\n 'feet': 498,\n 'meet': 499,\n 'science': 500,\n 'true': 501,\n 'daughter': 502,\n 'fever': 503,\n 'moonbeam': 504,\n 'hangs': 505,\n 'hourly': 506,\n 'hope': 507,\n 'ah': 508,\n 'pointed': 509,\n 'often': 510,\n 'forget': 511,\n 'lone': 512,\n 'lethean': 513,\n 'peace': 514,\n 'skies': 515,\n 'power': 516,\n 'undone': 517,\n 'destination': 518,\n 'destinys': 519,\n 'legended': 520,\n 'tomb': 521,\n 'fell': 522,\n 'upturnd': 523,\n 'faces': 524,\n 'bright': 525,\n 'idea': 526,\n 'deareye': 527,\n 'deeptoned': 528,\n 'throats': 529,\n 'do': 530,\n 'mans': 531,\n 'father': 532,\n 'killed': 533,\n 'turned': 534,\n 'try': 535,\n 'fathom': 536,\n 'unfettered': 537,\n 'several': 538,\n 'miles': 539,\n 'came': 540,\n 'over': 541,\n 'houses': 542,\n 'street': 543,\n 'call': 544,\n 'goodbye': 545,\n 'seraphic': 546,\n 'glancing': 547,\n 'eyes': 548,\n 'while': 549,\n 'high': 550,\n 'towers': 551,\n 'town': 552,\n 'faintest': 553,\n 'restless': 554,\n 'rustling': 555,\n 'woods': 556,\n 'excitement': 557,\n 'ill': 558,\n 'show': 559,\n 'sills': 560,\n 'extended': 561,\n 'pauses': 562,\n 'yankees': 563,\n 'always': 564,\n 'speculation': 565,\n 'plumes': 566,\n 'trailed': 567,\n 'dust': 568,\n 'lets': 569,\n 'trap': 570,\n 'abysses': 571,\n 'garden': 572,\n 'ground': 573,\n 'steered': 574,\n 'really': 575,\n 'straight': 576,\n 'away': 577,\n 'front': 578,\n 'twenty': 579,\n 'others': 580,\n 'wriggling': 581,\n 'speed': 582,\n 'spoke': 583,\n 'themselves': 584,\n 'fathers': 585,\n 'side': 586,\n 'pearl': 587,\n 'ruby': 588,\n 'glowing': 589,\n 'heres': 590,\n 'hoping': 591,\n 'gets': 592,\n 'drink': 593,\n 'safely': 594,\n 'â€‰': 595,\n 'half': 596,\n 'boring': 597,\n 'climbing': 598,\n 'lonesome': 599,\n 'october': 600,\n 'cliff': 601,\n 'bottle': 602,\n 'painted': 603,\n 'despairs': 604,\n 'unhallowed': 605,\n 'bed': 606,\n 'john': 607,\n 'wont': 608,\n 'imagine': 609,\n 'far': 610,\n 'interrupted': 611,\n 'cry': 612,\n 'mean': 613,\n 'skulls': 614,\n 'rogers': 615,\n 'rangers': 616,\n 'psyche': 617,\n 'uplifting': 618,\n 'finger': 619,\n 'id': 620,\n 'aknown': 621,\n 'young': 622,\n 'shes': 623,\n 'bad': 624,\n 'strength': 625,\n 'subdued': 626,\n 'otherwise': 627,\n 'fall': 628,\n 'beyond': 629,\n 'shattered': 630,\n 'seedpod': 631,\n 'headshake': 632,\n 'years': 633,\n 'girdle': 634,\n 'mark': 635,\n 'little': 636,\n 'longer': 637,\n 'mustnt': 638,\n 'feel': 639,\n 'hurried': 640,\n 'around': 641,\n 'lifting': 642,\n 'forgot': 643,\n 'must': 644,\n 'very': 645,\n 'talk': 646,\n 'rain': 647,\n 'spoiled': 648,\n 'began': 649,\n 'uncertain': 650,\n 'level': 651,\n 'higher': 652,\n 'earth': 653,\n 'below': 654,\n 'feather': 655,\n 'else': 656,\n 'remoteness': 657,\n 'defied': 658,\n 'tottering': 659,\n 'doth': 660,\n 'knew': 661,\n 'place': 662,\n 'kinsman': 663,\n 'purified': 664,\n 'electric': 665,\n 'go': 666,\n 'sleep': 667,\n 'lips': 668,\n 'melody': 669,\n 'cant': 670,\n 'myself': 671,\n 'hear': 672,\n 'nose': 673,\n 'same': 674,\n 'sos': 675,\n 'chin': 676,\n 'strange': 677,\n 'harpstring': 678,\n 'seriously': 679,\n 'bearings': 680,\n 'easier': 681,\n 'except': 682,\n 'johnjoe': 683,\n 'save': 684,\n 'divine': 685,\n 'estelle': 686,\n 'housework': 687,\n 'board': 688,\n 'leg': 689,\n 'crutch': 690,\n 'nature': 691,\n 'books': 692,\n 'hail': 693,\n 'morning': 694,\n 'besides': 695,\n 'quarry': 696,\n 'slightly': 697,\n 'sinking': 698,\n 'dull': 699,\n 'tide': 700,\n 'rolled': 701,\n 'inside': 702,\n 'sockets': 703,\n 'kitchen': 704,\n 'minute': 705,\n 'picking': 706,\n 'faded': 707,\n 'blue': 708,\n 'holy': 709,\n 'rays': 710,\n 'wreathed': 711,\n 'myrtle': 712,\n 'sword': 713,\n 'conceal': 714,\n 'boys': 715,\n 'hunters': 716,\n 'known': 717,\n 'height': 718,\n 'adventure': 719,\n 'newcut': 720,\n 'narrow': 721,\n 'gap': 722,\n 'bush': 723,\n 'peas': 724,\n 'made': 725,\n 'keep': 726,\n 'gnawing': 727,\n 'whined': 728,\n 'stroked': 729,\n 'hornyhanded': 730,\n 'kindness': 731,\n 'yes': 732,\n 'important': 733,\n 'face': 734,\n 'west': 735,\n 'getting': 736,\n 'gold': 737,\n 'neednt': 738,\n 'get': 739,\n 'softmurmured': 740,\n 'words': 741,\n 'tried': 742,\n 'beats': 743,\n 'coupling': 744,\n 'whirling': 745,\n 'frenzies': 746,\n 'particular': 747,\n 'oclock': 748,\n 'someone': 749,\n 'doing': 750,\n 'will': 751,\n 'believe': 752,\n 'fraught': 753,\n 'wings': 754,\n 'revolving': 755,\n 'scene': 756,\n 'into': 757,\n 'western': 758,\n 'couch': 759,\n 'thundercloud': 760,\n 'wearing': 761,\n 'deep': 762,\n 'feeling': 763,\n 'crown': 764,\n 'arose': 765,\n 'within': 766,\n 'human': 767,\n 'brain': 768,\n 'twas': 769,\n 'money': 770,\n 'piano': 771,\n 'new': 772,\n 'paint': 773,\n 'shoulders': 774,\n 'dragging': 775,\n 'yellow': 776,\n 'strands': 777,\n 'am': 778,\n 'passer': 779,\n 'replied': 780,\n 'ulalume': 781,\n 'simple': 782,\n 'loss': 783,\n 'dawn': 784,\n 'upon': 785,\n 'desolate': 786,\n 'dank': 787,\n 'tarn': 788,\n 'auber': 789,\n 'scurf': 790,\n 'plants': 791,\n 'weary': 792,\n 'overheated': 793,\n 'lying': 794,\n 'die': 795,\n 'suddenly': 796,\n 'arisen': 797,\n 'again': 798,\n 'fate': 799,\n 'whose': 800,\n 'also': 801,\n 'wonder': 802,\n 'cold': 803,\n 'coming': 804,\n 'ghoulhaunted': 805,\n 'woodland': 806,\n 'weir': 807,\n 'flying': 808,\n 'flight': 809,\n 'shelfs': 810,\n 'clock': 811,\n 'vase': 812,\n 'picture': 813,\n 'our': 814,\n 'memories': 815,\n 'treacherous': 816,\n 'given': 817,\n 'something': 818,\n 'meddle': 819,\n 'ago': 820,\n 'writer': 821,\n 'lines': 822,\n 'amy': 823,\n 'married': 824,\n 'entertain': 825,\n 'birds': 826,\n 'flowers': 827,\n 'common': 828,\n 'lie': 829,\n 'presented': 830,\n 'land': 831,\n 'hast': 832,\n 'dragged': 833,\n 'diana': 834,\n 'car': 835,\n 'nights': 836,\n 'year': 837,\n 'stop': 838,\n 'wet': 839,\n 'stampede': 840,\n 'stark': 841,\n 'gathered': 842,\n 'bow': 843,\n 'drag': 844,\n 'city': 845,\n 'alone': 846,\n 'held': 847,\n 'purse': 848,\n 'ahead': 849,\n 'foot': 850,\n 'captains': 851,\n 'dark': 852,\n 'tent': 853,\n 'grove': 854,\n 'orchard': 855,\n 'step': 856,\n 'trodden': 857,\n 'black': 858,\n 'springs': 859,\n 'upstart': 860,\n 'dim': 861,\n 'lake': 862,\n 'living': 863,\n 'gone': 864,\n 'round': 865,\n 'enamored': 866,\n 'moon': 867,\n 'unthoughtlike': 868,\n 'souls': 869,\n 'mossy': 870,\n 'banks': 871,\n 'meandering': 872,\n 'paths': 873,\n 'amid': 874,\n 'empurpled': 875,\n 'vapors': 876,\n 'smarty': 877,\n 'keeps': 878,\n 'cash': 879,\n 'hands': 880,\n 'trouble': 881,\n 'soulandbody': 882,\n 'scars': 883,\n 'frogs': 884,\n 'peeping': 885,\n 'thousand': 886,\n 'shrill': 887,\n 'north': 888,\n 'poleâ€”': 889,\n 'scarce': 890,\n 'prize': 891,\n 'most': 892,\n 'expense': 893,\n 'reach': 894,\n 'valley': 895,\n 'streams': 896,\n 'aroused': 897,\n 'celebrating': 898,\n 'queenly': 899,\n 'lily': 900,\n 'adown': 901,\n 'dale': 902,\n 'hyacinthine': 903,\n 'isle': 904,\n 'purple': 905,\n 'zante': 906,\n 'sew': 907,\n 'enough': 908,\n 'fulllength': 909,\n 'athens': 910,\n 'deliverance': 911,\n 'gave': 912,\n 'realms': 913,\n 'boreal': 914,\n 'pole': 915,\n 'showed': 916,\n 'signs': 917,\n 'smell': 918,\n 'feathers': 919,\n 'heat': 920,\n 'point': 921,\n 'path': 922,\n 'facts': 923,\n 'invested': 924,\n 'reasons': 925,\n 'nearest': 926,\n 'resembles': 927,\n 'worship': 928,\n 'remember': 929,\n 'politician': 930,\n 'odd': 931,\n 'seasons': 932,\n 'dead': 933,\n 'yet': 934,\n 'alive': 935,\n 'sweets': 936,\n 'sours': 937,\n 'days': 938,\n 'volcanic': 939,\n 'headed': 940,\n 'forâ€”': 941,\n 'saw': 942,\n 'handsâ€”': 943,\n 'both': 944,\n 'turns': 945,\n 'granny': 946,\n 'dunnow': 947,\n 'marked': 948,\n 'rather': 949,\n 'tip': 950,\n 'table': 951,\n 'experts': 952,\n 'mountain': 953,\n 'uncommonly': 954,\n 'snow': 955,\n 'assailed': 956,\n 'monarchs': 957,\n 'estate': 958,\n 'seen': 959,\n 'tears': 960,\n 'dry': 961,\n 'journeyed': 962,\n 'mormon': 963,\n 'settlement': 964,\n 'beside': 965,\n 'track': 966,\n 'friends': 967,\n 'simply': 968,\n 'lay': 969,\n 'figures': 970,\n 'described': 971,\n 'henry': 972,\n 'hudsons': 973,\n 'weve': 974,\n 'fifteen': 975,\n 'hed': 976,\n 'awake': 977,\n 'tis': 978,\n 'symbol': 979,\n 'token': 980,\n 'make': 981,\n 'worth': 982,\n 'lifes': 983,\n 'wake': 984,\n 'sport': 985,\n 'youve': 986,\n 'heard': 987,\n 'estelles': 988,\n 'angels': 989,\n 'dreaming': 990,\n 'moonlit': 991,\n 'poetess': 992,\n 'sighed': 993,\n 'repented': 994,\n 'july': 995,\n 'midnight': 996,\n 'reins': 997,\n 'nonsense': 998,\n 'whats': 999,\n ...}"
     },
     "execution_count": 194,
     "metadata": {},
     "output_type": "execute_result"
    }
   ],
   "source": [
    "word2idx"
   ],
   "metadata": {
    "collapsed": false
   }
  },
  {
   "cell_type": "code",
   "execution_count": 195,
   "outputs": [
    {
     "data": {
      "text/plain": "2625"
     },
     "execution_count": 195,
     "metadata": {},
     "output_type": "execute_result"
    }
   ],
   "source": [
    "len(word2idx)"
   ],
   "metadata": {
    "collapsed": false
   }
  },
  {
   "cell_type": "markdown",
   "source": [
    "word2idx.get(token, 0) digunakan untuk mengambil nilai indeks dari sebuah token dalam kamus word2idx. Jika token tersebut tidak ada di kamus, maka fungsi ini akan mengembalikan nilai 0 sebagai nilai default."
   ],
   "metadata": {
    "collapsed": false
   }
  },
  {
   "cell_type": "code",
   "execution_count": 196,
   "outputs": [],
   "source": [
    "# convert data into integer format\n",
    "train_text_int = []\n",
    "test_text_int = []\n",
    "\n",
    "for text in x_train:\n",
    "  tokens = text.split()\n",
    "  line_as_int = [word2idx[token] for token in tokens]\n",
    "  train_text_int.append(line_as_int)\n",
    "\n",
    "for text in x_test:\n",
    "  tokens = text.split()\n",
    "  line_as_int = [word2idx.get(token, 0) for token in tokens]\n",
    "  test_text_int.append(line_as_int)"
   ],
   "metadata": {
    "collapsed": false
   }
  },
  {
   "cell_type": "code",
   "execution_count": 197,
   "outputs": [
    {
     "data": {
      "text/plain": "[[82, 409, 13, 93, 410, 389, 411, 412],\n [413, 210, 414, 100, 189, 415, 416],\n [152, 174, 417, 11, 104, 418, 15, 419],\n [22, 420, 147],\n [21, 22, 421, 422, 423, 38, 174, 311]]"
     },
     "execution_count": 197,
     "metadata": {},
     "output_type": "execute_result"
    }
   ],
   "source": [
    "train_text_int[100:105]"
   ],
   "metadata": {
    "collapsed": false
   }
  },
  {
   "cell_type": "code",
   "execution_count": 198,
   "outputs": [],
   "source": [
    "# initialize A and pi matrices - for both classes\n",
    "V = len(word2idx)\n",
    "\n",
    "A0 = np.ones((V, V))\n",
    "pi0 = np.ones(V)\n",
    "\n",
    "A1 = np.ones((V, V))\n",
    "pi1 = np.ones(V)"
   ],
   "metadata": {
    "collapsed": false
   }
  },
  {
   "cell_type": "code",
   "execution_count": 199,
   "outputs": [
    {
     "data": {
      "text/plain": "((2625, 2625), (2625,))"
     },
     "execution_count": 199,
     "metadata": {},
     "output_type": "execute_result"
    }
   ],
   "source": [
    "A0.shape, pi0.shape"
   ],
   "metadata": {
    "collapsed": false
   }
  },
  {
   "cell_type": "code",
   "execution_count": 200,
   "outputs": [
    {
     "data": {
      "text/plain": "array([[1., 1., 1., ..., 1., 1., 1.],\n       [1., 1., 1., ..., 1., 1., 1.],\n       [1., 1., 1., ..., 1., 1., 1.],\n       ...,\n       [1., 1., 1., ..., 1., 1., 1.],\n       [1., 1., 1., ..., 1., 1., 1.],\n       [1., 1., 1., ..., 1., 1., 1.]])"
     },
     "execution_count": 200,
     "metadata": {},
     "output_type": "execute_result"
    }
   ],
   "source": [
    "A0"
   ],
   "metadata": {
    "collapsed": false
   }
  },
  {
   "cell_type": "markdown",
   "source": [
    "Fungsi zip(train_text_int, Ytrain) digunakan untuk menggabungkan dua iterables menjadi sebuah objek yang terdiri dari tuple-tuple dengan elemen-elemen dari kedua iterables yang sesuai berpasangan."
   ],
   "metadata": {
    "collapsed": false
   }
  },
  {
   "cell_type": "markdown",
   "source": [
    "Program di bawah adalah fungsi untuk menghitung jumlah kemunculan kata dan transisi antar kata dalam teks. Fungsi ini menerima argumen teks yang sudah dikonversi ke dalam bentuk integer (text_as_int), serta dua matriks yaitu A (matriks transisi) dan pi (vektor untuk menghitung distribusi probabilitas awal kata).\n",
    "\n",
    "Pada fungsi ini, setiap token dalam text_as_int akan diiterasi untuk menghitung kemunculan kata dan transisi antar kata. Untuk setiap token, program akan mengecek apakah token tersebut merupakan awal dari sebuah kalimat atau bukan (berdasarkan last_idx yang awalnya bernilai None). Jika iya, maka pi pada indeks token tersebut akan ditambahkan satu. Jika bukan, maka A pada indeks (last_idx, idx) akan ditambahkan satu untuk menghitung transisi dari kata last_idx ke kata idx. Terakhir, last_idx akan diupdate dengan nilai idx.\n",
    "\n",
    "Dalam contoh di atas, fungsi compute_counts dipanggil dua kali dengan argumen train_text_int dan y_train yang sudah di-filter berdasarkan labelnya (0 dan 1) untuk menghitung kemunculan kata dan transisi antar kata pada teks positif dan negatif. Hasil dari fungsi ini akan digunakan untuk menghitung matriks transisi dan distribusi probabilitas awal kata pada model HMM."
   ],
   "metadata": {
    "collapsed": false
   }
  },
  {
   "cell_type": "code",
   "execution_count": 201,
   "outputs": [],
   "source": [
    "# compute counts for A and pi\n",
    "def compute_counts(text_as_int, A, pi):\n",
    "  for tokens in text_as_int:\n",
    "    last_idx = None\n",
    "    for idx in tokens:\n",
    "      if last_idx is None:\n",
    "        # it's the first word in a sentence\n",
    "        pi[idx] += 1\n",
    "      else:\n",
    "        # the last word exists, so count a transition\n",
    "        A[last_idx, idx] += 1\n",
    "\n",
    "      # update last idx\n",
    "      last_idx = idx\n",
    "\n",
    "\n",
    "compute_counts([t for t, y in zip(train_text_int, y_train) if y == 0], A0, pi0)\n",
    "compute_counts([t for t, y in zip(train_text_int, y_train) if y == 1], A1, pi1)"
   ],
   "metadata": {
    "collapsed": false
   }
  },
  {
   "cell_type": "markdown",
   "source": [
    "Pada perintah A0.sum(axis=1, keepdims=True), A0 merupakan sebuah array atau tensor dengan dua dimensi. sum() adalah fungsi untuk menjumlahkan nilai-nilai pada tensor.\n",
    "\n",
    "Parameter axis menentukan arah sumbu yang akan dijumlahkan. Pada kasus ini, axis=1 menunjukkan bahwa penjumlahan dilakukan pada setiap baris pada tensor.\n",
    "\n",
    "Parameter keepdims digunakan untuk menentukan apakah dimensi yang dijumlahkan akan tetap dipertahankan atau tidak. Jika keepdims=True, maka dimensi yang dijumlahkan akan tetap dipertahankan dan hasilnya akan memiliki dimensi yang sama dengan tensor aslinya.\n",
    "\n",
    "Jadi, A0.sum(axis=1, keepdims=True) akan menjumlahkan setiap baris pada A0 dan menghasilkan tensor dengan dimensi (n, 1) di mana n adalah jumlah baris pada tensor A0."
   ],
   "metadata": {
    "collapsed": false
   }
  },
  {
   "cell_type": "code",
   "execution_count": 202,
   "outputs": [
    {
     "data": {
      "text/plain": "array([[1., 1., 1., ..., 1., 1., 1.],\n       [1., 1., 1., ..., 1., 1., 1.],\n       [1., 1., 1., ..., 1., 1., 1.],\n       ...,\n       [1., 1., 1., ..., 1., 1., 1.],\n       [1., 1., 1., ..., 1., 1., 1.],\n       [1., 1., 1., ..., 1., 1., 1.]])"
     },
     "execution_count": 202,
     "metadata": {},
     "output_type": "execute_result"
    }
   ],
   "source": [
    "A0"
   ],
   "metadata": {
    "collapsed": false
   }
  },
  {
   "cell_type": "code",
   "execution_count": 203,
   "outputs": [],
   "source": [
    "# normalize A and pi so they are valid probability matrices\n",
    "# convince yourself that this is equivalent to the formulas shown before\n",
    "\n",
    "A0 /= A0.sum(axis=1, keepdims=True)\n",
    "pi0 /= pi0.sum()\n",
    "\n",
    "A1 /= A1.sum(axis=1, keepdims=True)\n",
    "pi1 /= pi1.sum()"
   ],
   "metadata": {
    "collapsed": false
   }
  },
  {
   "cell_type": "code",
   "execution_count": 204,
   "outputs": [
    {
     "data": {
      "text/plain": "array([[0.00038095, 0.00038095, 0.00038095, ..., 0.00038095, 0.00038095,\n        0.00038095],\n       [0.00038095, 0.00038095, 0.00038095, ..., 0.00038095, 0.00038095,\n        0.00038095],\n       [0.00038037, 0.00038037, 0.00038037, ..., 0.00038037, 0.00038037,\n        0.00038037],\n       ...,\n       [0.00038095, 0.00038095, 0.00038095, ..., 0.00038095, 0.00038095,\n        0.00038095],\n       [0.00038095, 0.00038095, 0.00038095, ..., 0.00038095, 0.00038095,\n        0.00038095],\n       [0.00038095, 0.00038095, 0.00038095, ..., 0.00038095, 0.00038095,\n        0.00038095]])"
     },
     "execution_count": 204,
     "metadata": {},
     "output_type": "execute_result"
    }
   ],
   "source": [
    "A0"
   ],
   "metadata": {
    "collapsed": false
   }
  },
  {
   "cell_type": "code",
   "execution_count": 205,
   "outputs": [],
   "source": [
    "# log A and pi since we don't need the actual probs\n",
    "logA0 = np.log(A0)\n",
    "logpi0 = np.log(pi0)\n",
    "\n",
    "logA1 = np.log(A1)\n",
    "logpi1 = np.log(pi1)"
   ],
   "metadata": {
    "collapsed": false
   }
  },
  {
   "cell_type": "code",
   "execution_count": 206,
   "outputs": [
    {
     "data": {
      "text/plain": "array([[-7.87283618, -7.87283618, -7.87283618, ..., -7.87283618,\n        -7.87283618, -7.87283618],\n       [-7.87283618, -7.87283618, -7.87283618, ..., -7.87283618,\n        -7.87283618, -7.87283618],\n       [-7.87435882, -7.87435882, -7.87435882, ..., -7.87435882,\n        -7.87435882, -7.87435882],\n       ...,\n       [-7.87283618, -7.87283618, -7.87283618, ..., -7.87283618,\n        -7.87283618, -7.87283618],\n       [-7.87283618, -7.87283618, -7.87283618, ..., -7.87283618,\n        -7.87283618, -7.87283618],\n       [-7.87283618, -7.87283618, -7.87283618, ..., -7.87283618,\n        -7.87283618, -7.87283618]])"
     },
     "execution_count": 206,
     "metadata": {},
     "output_type": "execute_result"
    }
   ],
   "source": [
    "logA0"
   ],
   "metadata": {
    "collapsed": false
   }
  },
  {
   "cell_type": "code",
   "execution_count": 207,
   "outputs": [
    {
     "data": {
      "text/plain": "(0.3342989571263036, 0.6657010428736964)"
     },
     "execution_count": 207,
     "metadata": {},
     "output_type": "execute_result"
    }
   ],
   "source": [
    "# compute priors\n",
    "count0 = sum(y == 0 for y in y_train)\n",
    "count1 = sum(y == 1 for y in y_train)\n",
    "\n",
    "total = len(y_train)\n",
    "\n",
    "p0 = count0 / total\n",
    "p1 = count1 / total\n",
    "\n",
    "logp0 = np.log(p0)\n",
    "logp1 = np.log(p1)\n",
    "\n",
    "p0, p1"
   ],
   "metadata": {
    "collapsed": false
   }
  },
  {
   "cell_type": "markdown",
   "source": [
    "Program tersebut merupakan sebuah kelas Classifier yang digunakan untuk melakukan klasifikasi. Kelas ini memiliki tiga atribut yaitu logAs (log dari matriks transisi), logpis (log dari distribusi awal), dan logpriors (log dari probabilitas prior kelas). Kelas ini memiliki tiga metode yaitu _compute_log_likelihood untuk menghitung likelihood dari sebuah input untuk suatu kelas tertentu, predict untuk memprediksi kelas dari suatu input, dan metode __init__ sebagai constructor dari kelas tersebut. Metode predict akan menghitung likelihood untuk setiap kelas, kemudian akan memilih kelas dengan posterior tertinggi sebagai prediksi akhir."
   ],
   "metadata": {
    "collapsed": false
   }
  },
  {
   "cell_type": "code",
   "execution_count": 208,
   "outputs": [],
   "source": [
    "# build a markov classifier\n",
    "\n",
    "class Classifier:\n",
    "  def __init__(self, logAs, logpis, logpriors):\n",
    "    self.logAs = logAs\n",
    "    self.logpis = logpis\n",
    "    self.logpriors = logpriors\n",
    "    self.K = len(logpriors) # number of classes/index\n",
    "\n",
    "  def _compute_log_likelihood(self, input_, class_):\n",
    "    logA = self.logAs[class_] # class_ => indexnya\n",
    "    logpi = self.logpis[class_]\n",
    "\n",
    "    last_idx = None\n",
    "    logprob = 0\n",
    "    for idx in input_:\n",
    "      if last_idx is None:\n",
    "        # it's the first token\n",
    "        logprob += logpi[idx]\n",
    "      else:\n",
    "        logprob += logA[last_idx, idx]\n",
    "\n",
    "      # update last_idx\n",
    "      last_idx = idx\n",
    "\n",
    "    return logprob\n",
    "\n",
    "  def predict(self, inputs):\n",
    "    predictions = np.zeros(len(inputs))\n",
    "    for i, input_ in enumerate(inputs):\n",
    "      posteriors = [self._compute_log_likelihood(input_, c) + self.logpriors[c] \\\n",
    "                    for c in range(self.K)]\n",
    "      pred = np.argmax(posteriors)\n",
    "      predictions[i] = pred\n",
    "    return predictions"
   ],
   "metadata": {
    "collapsed": false
   }
  },
  {
   "cell_type": "code",
   "execution_count": 209,
   "outputs": [],
   "source": [
    "# each array must be in order since classes are assumed to index these lists\n",
    "clf = Classifier([logA0, logA1], [logpi0, logpi1], [logp0, logp1])"
   ],
   "metadata": {
    "collapsed": false
   }
  },
  {
   "cell_type": "code",
   "execution_count": 210,
   "outputs": [
    {
     "name": "stdout",
     "output_type": "stream",
     "text": [
      "Train acc: 0.9959443800695249\n"
     ]
    }
   ],
   "source": [
    "Ptrain = clf.predict(train_text_int)\n",
    "print(f\"Train acc: {np.mean(Ptrain == y_train)}\")"
   ],
   "metadata": {
    "collapsed": false
   }
  },
  {
   "cell_type": "markdown",
   "source": [
    "Program tersebut digunakan untuk melakukan prediksi pada data latih train_text_int menggunakan objek classifier clf yang sudah dilatih sebelumnya. Hasil prediksi tersebut disimpan dalam variabel Ptrain. Selanjutnya, program mencetak akurasi prediksi pada data latih tersebut dengan membandingkan hasil prediksi Ptrain dengan label yang sebenarnya y_train. Hasil akurasi tersebut ditampilkan dalam bentuk nilai numerik dengan menggunakan fungsi np.mean()."
   ],
   "metadata": {
    "collapsed": false
   }
  },
  {
   "cell_type": "code",
   "execution_count": 211,
   "outputs": [
    {
     "name": "stdout",
     "output_type": "stream",
     "text": [
      "Test acc: 0.8379629629629629\n"
     ]
    }
   ],
   "source": [
    "Ptest = clf.predict(test_text_int)\n",
    "print(f\"Test acc: {np.mean(Ptest == y_test)}\")"
   ],
   "metadata": {
    "collapsed": false
   }
  },
  {
   "cell_type": "markdown",
   "source": [
    "Jika kita menjalankan cm = confusion_matrix(y_train, Ptrain) setelah Ptrain = clf.predict(train_text_int), maka kita akan mendapatkan matriks confusion yang menunjukkan berapa banyak prediksi model yang benar dan salah untuk setiap kelas dalam data pelatihan.\n",
    "\n",
    "Matriks confusion umumnya digunakan untuk mengevaluasi kinerja model klasifikasi. Matriks ini memiliki empat sel yang berbeda:\n",
    "\n",
    "- True Positive (TP): jumlah contoh yang benar diprediksi sebagai positif\n",
    "- False Positive (FP): jumlah contoh yang salah diprediksi sebagai positif\n",
    "- True Negative (TN): jumlah contoh yang benar diprediksi sebagai negatif\n",
    "- False Negative (FN): jumlah contoh yang salah diprediksi sebagai negatif\n",
    "Dengan matriks confusion, kita dapat menghitung berbagai metrik evaluasi seperti akurasi, presisi, recall, dan F1-score.\n",
    "\n",
    "       |  Predicted 0  |  Predicted 1  |\n",
    "       |---------------|---------------|\n",
    "       |     TN        |     FP        |\n",
    "       |---------------|---------------|\n",
    "       |     FN        |     TP        |\n",
    "       |---------------|---------------|\n"
   ],
   "metadata": {
    "collapsed": false
   }
  },
  {
   "cell_type": "code",
   "execution_count": 213,
   "outputs": [
    {
     "data": {
      "text/plain": "array([[ 570,    7],\n       [   0, 1149]], dtype=int64)"
     },
     "execution_count": 213,
     "metadata": {},
     "output_type": "execute_result"
    }
   ],
   "source": [
    "cm = confusion_matrix(y_train, Ptrain)\n",
    "cm"
   ],
   "metadata": {
    "collapsed": false
   }
  },
  {
   "cell_type": "code",
   "execution_count": 214,
   "outputs": [
    {
     "data": {
      "text/plain": "array([[ 80,  65],\n       [  5, 282]], dtype=int64)"
     },
     "execution_count": 214,
     "metadata": {},
     "output_type": "execute_result"
    }
   ],
   "source": [
    "cm_test = confusion_matrix(y_test, Ptest)\n",
    "cm_test"
   ],
   "metadata": {
    "collapsed": false
   }
  },
  {
   "cell_type": "code",
   "execution_count": 215,
   "outputs": [
    {
     "data": {
      "text/plain": "0.9969631236442515"
     },
     "execution_count": 215,
     "metadata": {},
     "output_type": "execute_result"
    }
   ],
   "source": [
    "f1_score(y_train, Ptrain)"
   ],
   "metadata": {
    "collapsed": false
   }
  },
  {
   "cell_type": "code",
   "execution_count": 216,
   "outputs": [
    {
     "data": {
      "text/plain": "0.889589905362776"
     },
     "execution_count": 216,
     "metadata": {},
     "output_type": "execute_result"
    }
   ],
   "source": [
    "f1_score(y_test, Ptest)"
   ],
   "metadata": {
    "collapsed": false
   }
  },
  {
   "cell_type": "code",
   "execution_count": null,
   "outputs": [],
   "source": [],
   "metadata": {
    "collapsed": false
   }
  }
 ],
 "metadata": {
  "kernelspec": {
   "display_name": "Python 3 (ipykernel)",
   "language": "python",
   "name": "python3"
  },
  "language_info": {
   "codemirror_mode": {
    "name": "ipython",
    "version": 3
   },
   "file_extension": ".py",
   "mimetype": "text/x-python",
   "name": "python",
   "nbconvert_exporter": "python",
   "pygments_lexer": "ipython3",
   "version": "3.9.13"
  }
 },
 "nbformat": 4,
 "nbformat_minor": 4
}
